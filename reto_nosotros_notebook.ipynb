{
 "cells": [
  {
   "cell_type": "markdown",
   "metadata": {},
   "source": [
    "# SOLUCIÓN PARA EL RETO \"NOSOTROS\""
   ]
  },
  {
   "cell_type": "markdown",
   "metadata": {},
   "source": [
    "### DESCRIPCIÓN:"
   ]
  },
  {
   "cell_type": "markdown",
   "metadata": {},
   "source": [
    "Este notebook de Jupyter contiene la solución para el reto de la hackathon. Su funcionamiento se basa en la interacción con las APIs de Instagram y Twitter (o sus réplicas para este evento).\n",
    "\n",
    "Al introducir un archivo JSON con diferentes hashtags repartidos en categorías, el notebook es capaz de obtener las publicaciones más relevantes para la categoría escogida consultando los hashtags que contiene. \n",
    "\n",
    "Una vez obtenidas las publicaciones se realiza un cribado en función del impacto de los usuarios dentro de la categoría indicada, según el siguiente criterio:\n",
    "\n",
    ">**Instagram:** Se calcula el impacto de los usuarios obteniendo el número de publicaciones relevantes dentro de una categoría determinada, cribando aquellas que no entran dentro de las que tienen más comentarios y likes (en ese orden).\n",
    "\n",
    ">**Twitter:** Se calcula el índice de impacto de un usuario mediante la suma de las respuestas, likes y retweets de los tweets que utilizan los hashtags de la categoría."
   ]
  },
  {
   "cell_type": "markdown",
   "metadata": {},
   "source": [
    "#### Comentarios adicionales:"
   ]
  },
  {
   "cell_type": "markdown",
   "metadata": {},
   "source": [
    "Las categorías de ejemplo que se han utilizado son:\n",
    "*'hashtags_fitness',\n",
    "'hashtags_food',\n",
    "'hashtags_travel'*\n",
    "\n",
    "Se incluye en cada función principal la medida del tiempo de ejecución."
   ]
  },
  {
   "cell_type": "markdown",
   "metadata": {},
   "source": [
    "#### Librerías utilizadas:"
   ]
  },
  {
   "cell_type": "code",
   "execution_count": 1,
   "metadata": {},
   "outputs": [],
   "source": [
    "import requests\n",
    "import json\n",
    "import pandas as pd\n",
    "import time"
   ]
  },
  {
   "cell_type": "markdown",
   "metadata": {},
   "source": [
    "## FUNCIONES PARA INSTAGRAM"
   ]
  },
  {
   "cell_type": "markdown",
   "metadata": {},
   "source": [
    "#### Función principal:"
   ]
  },
  {
   "cell_type": "code",
   "execution_count": 2,
   "metadata": {},
   "outputs": [],
   "source": [
    "def main_instagram():\n",
    "    start = time.time()\n",
    "    \n",
    "    #Credenciales y variables:\n",
    "    insta_user = '17473'\n",
    "    insta_key = '2jkcsHxjpcYDwtlj2idP'\n",
    "    hashtags_category = 'hashtags_travel'\n",
    "    target_users = 20\n",
    "    user_id = insta_user\n",
    "    #Tipo de contenido: 'recent' o 'top'\n",
    "    mediaType = 'recent'\n",
    "    \n",
    "    #Obtención del ránking de usuarios:\n",
    "    best_posts = get_best_media_posts(hashtags_category, user_id, mediaType)\n",
    "    best_posts = best_posts.reset_index(drop=True)\n",
    "    \n",
    "    user_list = []\n",
    "    for index, row in best_posts.iterrows():\n",
    "        post_id = row[\"id\"]\n",
    "        userId = get_username_from_post_metadata(post_id)    \n",
    "        user_list.append(userId)\n",
    "        \n",
    "    users = list(dict.fromkeys(user_list))\n",
    "    users_df = pd.DataFrame([[1, 2]],columns=[\"id\",\"relevantMedia\"])\n",
    "    new_users = pd.DataFrame(columns=[\"id\",\"relevantMedia\"])\n",
    "    for i in range(0,len(users)):\n",
    "        matches = user_list.count(users[i])\n",
    "        new_users = pd.DataFrame([[users[i], matches]],columns=[\"id\",\"relevantMedia\"])\n",
    "        users_df = users_df.append(new_users)\n",
    "    users_df = users_df.sort_values(by=['relevantMedia'], ascending = False)\n",
    "    users_df = users_df.reset_index(drop=True)\n",
    "    \n",
    "    users_data = pd.DataFrame()\n",
    "    for index, row in users_df.iterrows():\n",
    "        userId = row[\"id\"]\n",
    "        relevantMedia = row[\"relevantMedia\"]\n",
    "        user_data = get_user_data(userId)\n",
    "        new_user_data = pd.DataFrame.from_dict(user_data, orient='index')\n",
    "        new_user_data = new_user_data.transpose()\n",
    "        new_user_data = new_user_data.assign(relevantMedia=relevantMedia)\n",
    "        users_data = users_data.append(new_user_data)\n",
    "        \n",
    "    users_data = users_data.reset_index(drop=True)\n",
    "    users_data = users_data[['id', 'username', 'relevantMedia','followerCount','mediaCount']]\n",
    "    \n",
    "    #Obtención del ránking\n",
    "    print(\"RÁNKING DE USUARIOS CONSIDERADOS COMO 'LOS NUESTROS':\")\n",
    "    users_data = users_data.head(target_users)\n",
    "    print(users_data)\n",
    "    \n",
    "    #Seguimiento de cuentas seleccionadas\n",
    "    for index, row in users_data.iterrows():\n",
    "        userId = row[\"id\"]\n",
    "        follow_user(userId, user_id)\n",
    "    \n",
    "    print(\"\")    \n",
    "    print(\"¡Se han seguido a las cuentas seleccionadas!\")    \n",
    "        \n",
    "    end = time.time()\n",
    "    print(\"\")\n",
    "    print(\"Tiempo total de ejecución: \"+str(round(end-start, 2))+\" segundos\")"
   ]
  },
  {
   "cell_type": "markdown",
   "metadata": {},
   "source": [
    "#### Otras funciones:"
   ]
  },
  {
   "cell_type": "code",
   "execution_count": 3,
   "metadata": {},
   "outputs": [],
   "source": [
    "def get_hashtags_list(keyword):\n",
    "    with open('hashtags.json') as json_data:\n",
    "        hashtags_json = json.load(json_data)\n",
    "        hashtags = hashtags_json[keyword]\n",
    "        json_data.close()\n",
    "        return hashtags"
   ]
  },
  {
   "cell_type": "code",
   "execution_count": 4,
   "metadata": {},
   "outputs": [],
   "source": [
    "def get_hashtag_id(hashtag, user_id):\n",
    "    r = requests.get('http://hackathon.ocupa2.com/instagram/ig_hashtag_search?q='+hashtag+'&user_id'+user_id)\n",
    "    hashtag_json = json.loads(r.text)\n",
    "    hashtag_id = hashtag_json['id']\n",
    "    return hashtag_id"
   ]
  },
  {
   "cell_type": "code",
   "execution_count": 5,
   "metadata": {},
   "outputs": [],
   "source": [
    "def get_media_posts(hashtag, user_id, mediaType):\n",
    "    hashtag_id = get_hashtag_id(hashtag, user_id)\n",
    "    endpoint_media = 'http://hackathon.ocupa2.com/instagram/'+str(hashtag_id)+'/'+mediaType+'_media?user_id='+user_id\n",
    "    r = requests.get(endpoint_media)\n",
    "    posts_json = json.loads(r.text)\n",
    "    posts_df = pd.DataFrame.from_dict(posts_json['data'])\n",
    "    best_posts = posts_df.sort_values(by=['commentsCount', 'likeCount'], ascending = False).head(30)\n",
    "    return best_posts"
   ]
  },
  {
   "cell_type": "code",
   "execution_count": 6,
   "metadata": {},
   "outputs": [],
   "source": [
    "def get_best_media_posts(hashtags_category, user_id, mediaType):\n",
    "    hashtags_list = get_hashtags_list(hashtags_category)\n",
    "    sum_df = pd.DataFrame()\n",
    "    for i in range(0, len(hashtags_list)):\n",
    "        next_df = get_media_posts(hashtags_list[i], user_id, mediaType)\n",
    "        sum_df = sum_df.append(next_df)\n",
    "    sum_df = sum_df.sort_values(by=['commentsCount', 'likeCount'], ascending = False)\n",
    "    return sum_df"
   ]
  },
  {
   "cell_type": "code",
   "execution_count": 7,
   "metadata": {},
   "outputs": [],
   "source": [
    "def get_username_from_post_metadata(post_id):\n",
    "    endpoint_username = 'http://hackathon.ocupa2.com/instagram/media/'+str(post_id)+'?fields=username'\n",
    "    r = requests.get(endpoint_username)\n",
    "    username = r.json()\n",
    "    return username[0]['userId']"
   ]
  },
  {
   "cell_type": "code",
   "execution_count": 8,
   "metadata": {},
   "outputs": [],
   "source": [
    "def get_user_data(userId):\n",
    "    endpoint = 'http://hackathon.ocupa2.com/instagram/'+str(userId)+'?fields=id,follower_count,media_count,username'\n",
    "    r = requests.get(endpoint)\n",
    "    user_data = r.json()\n",
    "    return user_data[0]"
   ]
  },
  {
   "cell_type": "code",
   "execution_count": 9,
   "metadata": {},
   "outputs": [],
   "source": [
    "def follow_user(userId, user_id):\n",
    "    endpoint = 'http://hackathon.ocupa2.com/instagram/'+str(userId)+\"/follow?user_id=\"+str(user_id)+\"&action=follow\"\n",
    "    r = requests.get(endpoint)"
   ]
  },
  {
   "cell_type": "markdown",
   "metadata": {},
   "source": [
    "## FUNCIONES PARA TWITTER"
   ]
  },
  {
   "cell_type": "markdown",
   "metadata": {},
   "source": [
    "#### Función principal:"
   ]
  },
  {
   "cell_type": "code",
   "execution_count": 10,
   "metadata": {},
   "outputs": [],
   "source": [
    "def main_twitter():\n",
    "    start = time.time()    \n",
    "    \n",
    "    twitter_user = '10013'\n",
    "    twitter_key = 'muktdqLj37mxQgEwkRa6'\n",
    "    hashtags_category = 'hashtags_food'\n",
    "    target_users = 20\n",
    "    tweets_list = get_tweets_list(hashtags_category)\n",
    "    \n",
    "    #Crear DataFrame con los metadatos relevantes:\n",
    "    metadata_df = pd.DataFrame()\n",
    "    for i in range(0,len(tweets_list)):\n",
    "        dict_metadata = get_metadata_of_tweet(tweets_list[i])\n",
    "        new_metadata = pd.DataFrame.from_dict(dict_metadata, orient='index')\n",
    "        new_metadata = new_metadata.transpose()\n",
    "        metadata_df = metadata_df.append(new_metadata)\n",
    "    metadata_df = metadata_df.drop(['idStr'], axis=1)    \n",
    "\n",
    "    #Dar RT y like a las publicaciones más relevantes:\n",
    "    #TODO\n",
    "    \n",
    "    #Agrupar por usuarios los comentarios, RTs y likes de publicaciones relevantes:\n",
    "    metadata_df = metadata_df.drop(['id'], axis=1)\n",
    "    metadata_df = metadata_df.reset_index(drop=True)\n",
    "    \n",
    "    #Obtención del ránking\n",
    "    ranking_df = get_user_ranking(metadata_df)\n",
    "    ranking_df = ranking_df.head(target_users)\n",
    "    ranking_df = ranking_df.astype('int64')\n",
    "    ranking_df = ranking_df.reset_index(drop=True)\n",
    "    ranking_df = ranking_df[['user', 'engagementRate', 'replyCount', 'retweetCount', 'likeCount']]\n",
    "    \n",
    "    print(\"RÁNKING DE USUARIOS CONSIDERADOS COMO 'LOS NUESTROS':\")\n",
    "    print(ranking_df)\n",
    "\n",
    "    #Hacer follow a los usuarios seleccionados:\n",
    "    for index, row in ranking_df.iterrows():\n",
    "        user = row[\"user\"]\n",
    "        follow_user(user, twitter_key)    \n",
    "        \n",
    "    print(\"\")    \n",
    "    print(\"¡Se han seguido a las cuentas seleccionadas!\")\n",
    "    \n",
    "    \n",
    "    end = time.time()\n",
    "    print(\"\")\n",
    "    print(\"Tiempo total de ejecución: \"+str(round(end-start, 2))+\" segundos\")    "
   ]
  },
  {
   "cell_type": "markdown",
   "metadata": {},
   "source": [
    "#### Otras funciones:"
   ]
  },
  {
   "cell_type": "code",
   "execution_count": 11,
   "metadata": {},
   "outputs": [],
   "source": [
    "def get_hashtags_list(keyword):\n",
    "    with open('hashtags.json') as json_data:\n",
    "        hashtags_json = json.load(json_data)\n",
    "        hashtags = hashtags_json[keyword]\n",
    "        json_data.close()\n",
    "        return hashtags"
   ]
  },
  {
   "cell_type": "code",
   "execution_count": 12,
   "metadata": {},
   "outputs": [],
   "source": [
    "def get_tweets_by_hashtag(hashtag):\n",
    "    tweet_ids = []\n",
    "    r = requests.get('http://hackathon.ocupa2.com/twitter/1.1/search/tweets.json?q='+hashtag)\n",
    "    tweets_json = r.json()\n",
    "    for i in range(0,len(tweets_json)):\n",
    "        tweet_ids.append(tweets_json[i]['tweetId'])\n",
    "    return tweet_ids"
   ]
  },
  {
   "cell_type": "code",
   "execution_count": 13,
   "metadata": {},
   "outputs": [],
   "source": [
    "def get_tweets_list(hashtags_category):\n",
    "    hashtags_list = get_hashtags_list(hashtags_category)\n",
    "    tweets_list = []\n",
    "    for i in range(0, len(hashtags_list)):\n",
    "        tweets_ids = get_tweets_by_hashtag(hashtags_list[i])\n",
    "        tweets_list = tweets_list + tweets_ids\n",
    "    tweets_list = list(dict.fromkeys(tweets_ids))    \n",
    "    return tweets_list"
   ]
  },
  {
   "cell_type": "code",
   "execution_count": 14,
   "metadata": {},
   "outputs": [],
   "source": [
    "def get_metadata_of_tweet(tweet):\n",
    "    r = requests.get('http://hackathon.ocupa2.com/twitter/1.1/statuses/retweets/'+str(tweet)+'.json')\n",
    "    tweet_metadata = r.json()\n",
    "    return tweet_metadata[0]"
   ]
  },
  {
   "cell_type": "code",
   "execution_count": 15,
   "metadata": {},
   "outputs": [],
   "source": [
    "def get_user_ranking(metadata_df):\n",
    "    ranking_df = metadata_df.groupby([\"user\"], level=0).sum()\n",
    "    ranking_df['engagementRate'] = ranking_df.apply(lambda row: (row.likeCount + row.retweetCount + row.replyCount), axis=1)\n",
    "    ranking_df = ranking_df.sort_values(by=['engagementRate'], ascending = False)\n",
    "    return ranking_df"
   ]
  },
  {
   "cell_type": "code",
   "execution_count": 16,
   "metadata": {},
   "outputs": [],
   "source": [
    "def follow_user(user, twitter_key):\n",
    "    endpoint = 'http://hackathon.ocupa2.com/twitter/1.1/friendships/create.json?user_id='+str(user)+'&bearer='+twitter_key\n",
    "    r = requests.get(endpoint)"
   ]
  },
  {
   "cell_type": "markdown",
   "metadata": {},
   "source": [
    "## EJECUCIÓN DEL PROGRAMA:"
   ]
  },
  {
   "cell_type": "code",
   "execution_count": 17,
   "metadata": {},
   "outputs": [
    {
     "name": "stdout",
     "output_type": "stream",
     "text": [
      "RÁNKING DE USUARIOS CONSIDERADOS COMO 'LOS NUESTROS':\n",
      "    id                    username  relevantMedia followerCount mediaCount\n",
      "0    4    Greyson GLOVER CERVANTES             17            79        478\n",
      "1   28       Rebekah BAXTER MATHIS             16            75        418\n",
      "2   21      Kinslee TAYLOR MCCLURE             14            66        364\n",
      "3    7        Cynthia BUCKLEY PACE             14            92        484\n",
      "4   10      Emmalyn CARRILLO SWEET             13            82        406\n",
      "5    6       Zaniyah MELENDEZ FORD             13            65        298\n",
      "6    2          Jaxen BARKER SOLIS             13            82        418\n",
      "7   49  Guillermo JUSTICE CANTRELL             13            56        326\n",
      "8   14      Alannah TILLMAN HARDIN             12            74        354\n",
      "9   59     Armando GILES CHRISTIAN             11            48        382\n",
      "10  13           Belen SWEET NOBLE             10            56        334\n",
      "11   5             Dean NUNEZ OWEN             10            73        362\n",
      "12   9    Genevieve REYES MCFADDEN              9            66        300\n",
      "13  32         Leslie KING GILLIAM              9            67        386\n",
      "14  20          Brixton GOULD BALL              8            81        422\n",
      "15  16      Beatrice WYATT VAZQUEZ              8            66        326\n",
      "16  55         Abram DENNIS HAYNES              8            47        254\n",
      "17  17    Hadassah PATRICK VINCENT              7            63        392\n",
      "18  19      Blaise MCGUIRE BALDWIN              7            23        146\n",
      "19   8        Destiny BYRD SUMMERS              7            34        146\n",
      "\n",
      "¡Se han seguido a las cuentas seleccionadas!\n",
      "\n",
      "Tiempo total de ejecución: 38.99 segundos\n"
     ]
    }
   ],
   "source": [
    "main_instagram()"
   ]
  },
  {
   "cell_type": "code",
   "execution_count": 18,
   "metadata": {},
   "outputs": [
    {
     "name": "stdout",
     "output_type": "stream",
     "text": [
      "RÁNKING DE USUARIOS CONSIDERADOS COMO 'LOS NUESTROS':\n",
      "    user  engagementRate  replyCount  retweetCount  likeCount\n",
      "0      2              15           1             7          7\n",
      "1     89              15           3             6          6\n",
      "2     18              15           4             5          6\n",
      "3     67              15           2             6          7\n",
      "4     16              14           3             6          5\n",
      "5     12              13           2             5          6\n",
      "6     56              13           3             3          7\n",
      "7     69              13           3             3          7\n",
      "8     82              12           3             3          6\n",
      "9     74              12           2             3          7\n",
      "10    14              12           2             4          6\n",
      "11    28              12           2             4          6\n",
      "12    29              12           2             4          6\n",
      "13     1              11           2             3          6\n",
      "14    86              11           2             3          6\n",
      "15     3              11           3             3          5\n",
      "16    31              11           1             4          6\n",
      "17     3              11           2             4          5\n",
      "18    12              11           0             3          8\n",
      "19    32              11           2             4          5\n",
      "\n",
      "¡Se han seguido a las cuentas seleccionadas!\n",
      "\n",
      "Tiempo total de ejecución: 29.77 segundos\n"
     ]
    }
   ],
   "source": [
    "main_twitter()"
   ]
  },
  {
   "cell_type": "markdown",
   "metadata": {},
   "source": [
    "### POSIBLES MEJORAS A FUTURO"
   ]
  },
  {
   "cell_type": "markdown",
   "metadata": {},
   "source": [
    "- Crear un limitador de consultas para no superar los límites impuestos por Twitter e Instagram\n",
    "- Diseño de una interfaz gráfica para consultar métricas"
   ]
  }
 ],
 "metadata": {
  "kernelspec": {
   "display_name": "Python 3",
   "language": "python",
   "name": "python3"
  },
  "language_info": {
   "codemirror_mode": {
    "name": "ipython",
    "version": 3
   },
   "file_extension": ".py",
   "mimetype": "text/x-python",
   "name": "python",
   "nbconvert_exporter": "python",
   "pygments_lexer": "ipython3",
   "version": "3.6.6"
  }
 },
 "nbformat": 4,
 "nbformat_minor": 2
}
